{
 "cells": [
  {
   "cell_type": "markdown",
   "metadata": {},
   "source": [
    "## Bergson ISS Results analysis"
   ]
  },
  {
   "cell_type": "code",
   "execution_count": null,
   "metadata": {},
   "outputs": [],
   "source": [
    "# Import pre-requesite\n",
    "import pandas as pd\n",
    "import matplotlib.pyplot as plt\n",
    "from sklearn.metrics import confusion_matrix\n",
    "from sklearn.metrics import plot_confusion_matrix\n",
    "import seaborn as sn"
   ]
  },
  {
   "cell_type": "code",
   "execution_count": null,
   "metadata": {},
   "outputs": [],
   "source": [
    "# Read Bergson Post-Processed data with filled AI prediction & Sentinel 5P\n",
    "iss_data = pd.read_csv('./Bergson ISS - bergson_geodata.csv')\n",
    "iss_data.describe()"
   ]
  },
  {
   "cell_type": "code",
   "execution_count": null,
   "metadata": {},
   "outputs": [],
   "source": [
    "# Create y and y_hat to analyze AI prediction results against Sentinel-5P ground truth\n",
    "y = iss_data['sentinel 5P https://maps.s5p-pal.com/'].tolist()\n",
    "y_hat = iss_data['ai prediction'].tolist()\n",
    "conf_mat = confusion_matrix(y,y_hat,labels=['low','medium','high'],normalize=None)\n",
    "conf_mat"
   ]
  },
  {
   "cell_type": "code",
   "execution_count": null,
   "metadata": {},
   "outputs": [],
   "source": [
    "# Confusion Matrix\n",
    "df_cm = pd.DataFrame(conf_mat, index = [i for i in ['low','medium','high']],\n",
    "                  columns = [i for i in ['low','medium','high']])\n",
    "plt.figure(figsize = (7,5))\n",
    "plt.xlabel(\"Predicted\")\n",
    "plt.ylabel(\"Actual\")\n",
    "sn.heatmap(df_cm, annot=True,fmt='d')\n",
    "plt.show()"
   ]
  },
  {
   "cell_type": "code",
   "execution_count": null,
   "metadata": {},
   "outputs": [],
   "source": [
    "# Precision, Recall, Accuracy\n",
    "from sklearn.metrics import classification_report\n",
    "class_names = ['low','medium']\n",
    "print(classification_report(y,y_hat,target_names=class_names))"
   ]
  }
 ],
 "metadata": {
  "interpreter": {
   "hash": "67e665cb655593ff1c9753579c5c4d24b3966e02d627d85f23b02862b83f0e73"
  },
  "kernelspec": {
   "display_name": "Python 3.7.9 64-bit ('astropi114': conda)",
   "name": "python3"
  },
  "language_info": {
   "name": "python",
   "version": ""
  },
  "orig_nbformat": 4
 },
 "nbformat": 4,
 "nbformat_minor": 2
}